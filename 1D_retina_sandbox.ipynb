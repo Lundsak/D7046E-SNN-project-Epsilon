{
  "cells": [
    {
      "cell_type": "markdown",
      "metadata": {
        "id": "IGUMsWuGyvnH"
      },
      "source": [
        "# Introduction to the Retina project – D7046E @ LTU.SE\n",
        "\n",
        "This notebook serves as a starting point and playground for investigating what the 1D Retina project is about.\n",
        "The idea is that you should familiarize yourself with both projects and later on decide which project to focus on (retina/SNN or chatbot/ANN)."
      ]
    },
    {
      "cell_type": "code",
      "execution_count": 2,
      "metadata": {
        "id": "urDQCbIYyvnJ"
      },
      "outputs": [],
      "source": [
        "# Enable inline plots in the notebook\n",
        "%matplotlib inline\n",
        "\n",
        "# Import library functions needed\n",
        "import numpy as np\n",
        "import matplotlib.pyplot as plt\n",
        "from matplotlib.ticker import MaxNLocator\n",
        "\n",
        "# Set default figure size\n",
        "plt.rcParams['figure.figsize'] = [6,6]\n",
        "\n",
        "# Function that is used to plot spike times\n",
        "def rasterplot(ax, x, y, x_label, y_label):\n",
        "    ax.set_xlabel(x_label)\n",
        "    ax.set_ylabel(y_label)\n",
        "    ax.scatter(x, y, marker='|')\n",
        "    ax.yaxis.set_major_locator(MaxNLocator(integer=True))"
      ]
    },
    {
      "cell_type": "markdown",
      "metadata": {
        "id": "nZ9k1B9NyvnK"
      },
      "source": [
        "# Basic data generator\n",
        "\n",
        "The following animation illustrates a simple motion detection task. A bright spot is moving across a one-dimensonal array of virtual receptor neurons.\n",
        "\n",
        "![Concept illustration](https://drive.google.com/uc?export=view&id=1dc4TQ84ui5i9oVnGH9Au5sZfHKzt-2jd)\n",
        "\n",
        "The task is to determine whether the pattern is moving and whether it is moving towards the left or right. The following code implements a basic spike data generator inspired by the animation above. For simplicity it is assumed that a bright spot is moving at constant speed back and forth, and that one spike is generated when the bright spot is passing over a receptor neuron."
      ]
    },
    {
      "cell_type": "code",
      "execution_count": 8,
      "metadata": {
        "id": "jmBynoI5yvnL",
        "outputId": "db555b55-8434-46b8-fde5-4406edd35105"
      },
      "outputs": [
        {
          "name": "stdout",
          "output_type": "stream",
          "text": [
            "[0, 1, 2, 3, 4, 5, 6, 7, 8, 9, 8, 7, 6, 5, 4, 3, 2, 1, 0, 1, 2, 3, 4, 5, 6, 7, 8, 9, 8, 7, 6, 5, 4, 3, 2, 1, 0, 1] [0, 0.05263157894736842, 0.10526315789473684, 0.15789473684210525, 0.21052631578947367, 0.2631578947368421, 0.3157894736842105, 0.3684210526315789, 0.42105263157894735, 0.47368421052631576, 0.5263157894736842, 0.5789473684210527, 0.631578947368421, 0.6842105263157894, 0.7368421052631577, 0.7894736842105261, 0.8421052631578945, 0.8947368421052628, 0.9473684210526312, 0.9999999999999996, 1.052631578947368, 1.1052631578947363, 1.1578947368421046, 1.210526315789473, 1.2631578947368414, 1.3157894736842097, 1.368421052631578, 1.4210526315789465, 1.4736842105263148, 1.5263157894736832, 1.5789473684210515, 1.63157894736842, 1.6842105263157883, 1.7368421052631566, 1.789473684210525, 1.8421052631578934, 1.8947368421052617, 1.94736842105263]\n"
          ]
        },
        {
          "data": {
            "image/png": "[encoded data removed]",
            "text/plain": [
              "<Figure size 600x600 with 1 Axes>"
            ]
          },
          "metadata": {},
          "output_type": "display_data"
        }
      ],
      "source": [
        "####################################################################################################\n",
        "# Simulation parameters\n",
        "dt = 1e-4                    # Timestep\n",
        "t = np.arange(0,20000)*dt    # Simulation time array t\n",
        "num_receptors = 10           # Number of receptor neurons\n",
        "speed = 20                   # Speed of bright spot, number of receptor neurons passed per second\n",
        "####################################################################################################\n",
        "\n",
        "plot_t = []                  # Time of spikes\n",
        "plot_n = []                  # Receptor neuron id's\n",
        "currtime = 0                 # Time when a spike is fired\n",
        "neuronid = 0                 # Neuron that fires a spike\n",
        "stepdir = 1                  # Is the bright spot moving towards the right (1) or left (-1)\n",
        "timestep = 1.0/(speed-1)     # Time between spikes generated by nearby receptor neurons\n",
        "\n",
        "# Make placeholders for spike time arrays to be used for SNN simulation\n",
        "spikes = []\n",
        "for i in range(num_receptors):\n",
        "    spikes.append([])\n",
        "\n",
        "# Generate and plot spikes from receptor neurons\n",
        "while currtime < t[-1]:\n",
        "    plot_t.append(currtime)\n",
        "    plot_n.append(neuronid)\n",
        "    spikes[neuronid].append(currtime)\n",
        "    if neuronid == 0 and stepdir == -1:\n",
        "        stepdir = 1\n",
        "    elif neuronid == (num_receptors-1) and stepdir == 1:\n",
        "        stepdir = -1\n",
        "    neuronid += stepdir\n",
        "    currtime += timestep\n",
        "    \n",
        "# Plot spikes\n",
        "fig, ax = plt.subplots()\n",
        "rasterplot(ax, plot_t, plot_n,'Time [s]','Receptor neuron ID')\n",
        "ax.grid()\n",
        "print(plot_n, plot_t)"
      ]
    },
    {
      "cell_type": "markdown",
      "metadata": {
        "id": "nCvIJCIlyvnM"
      },
      "source": [
        "# Implement your first motion-detection SNN\n",
        "\n",
        "There is a direction-selective network example in [Neuronify](https://ovilab.net/neuronify/), which is illustrated below. This network is designed so that the output neuron tends to fire a spike when the inputs are touched from right to left, but not when touched from left to right (with some limitations on the touching speed).\n",
        "\n",
        "![First network implementation](https://drive.google.com/uc?export=view&id=1ZIyhUCtNebN1StlYCKEnC0qgXMZAF8d-)\n",
        "\n",
        "Can you simulate this network using the code from SNN Exercise 1 and the input spikes provided by the data generator above? Can you modify the parameters of the simulated network so that it becomes direction selective?\n",
        "\n",
        "If you succeed with this task then you have designed your first SNN vision system capable of basic motion detection!\n",
        "\n",
        "**Note:** You need to complete SNN Exercise 1 to acquire the necessary background knowledge for this task."
      ]
    },
    {
      "cell_type": "code",
      "execution_count": 4,
      "metadata": {
        "id": "hijVbiBkyvnN"
      },
      "outputs": [],
      "source": [
        "# To simulate the spikes from the receptor neurons you will need an additional neuron constructor defined as\n",
        "\n",
        "def spike_generator(spike_times):\n",
        "    # Generates spikes at time points defined by the sorted list 'spike_t'\n",
        "    return {\n",
        "        'type'      : 'generator',\n",
        "        'spike_t'   : spike_times              # Array of spike times, separated by at least dt\n",
        "}\n",
        "\n",
        "# To incorporate this neuron type in the simulator you will need to update the spikegen(dt,t,neurons) function\n",
        "\n",
        "def spikegen(dt, t, neurons):\n",
        "    # This function implements the non-linear spike generation mechanism\n",
        "    spikes = []\n",
        "    for i,n in enumerate(neurons):\n",
        "        if n['type'] in ['lif_cic','lif']:\n",
        "            if n['u'] > n['u_thres']:\n",
        "                n['u'] = n['u_reset']\n",
        "                spikes.append(i)\n",
        "        elif n['type'] == 'generator':\n",
        "            j = np.searchsorted(n['spike_t'], t, side='right')\n",
        "            if j>0 and t-n['spike_t'][j-1]<dt:\n",
        "                spikes.append(i)\n",
        "    return spikes\n",
        "\n",
        "# With these modifications of the simulator code you should be able to simulate the receptor neurons using\n",
        "# spike_generator neurons initialized with the spike time arrays produced by the data generator code above.\n",
        "\n",
        "# The construction of neurons and configuration of synapses should be done in a similar way as in SNN Exercise 1."
      ]
    },
    {
      "cell_type": "code",
      "execution_count": 5,
      "metadata": {},
      "outputs": [],
      "source": [
        "def lif_cic_neuron(I_syn, u_rest=-65e-3, u_reset=-65e-3, u_thres=-50e-3, R=95e6, tau_m=30e-3):\n",
        "    # LIF neuron with a constant input current I_syn\n",
        "    return {\n",
        "        'type'    : 'lif_cic',\n",
        "        'u'       : u_reset,                   # Membrane potential [Volt]\n",
        "        'u_rest'  : u_rest,                    # Leakage resting potential [Volt]\n",
        "        'u_reset' : u_reset,                   # Reset potential after spike [Volt]\n",
        "        'u_thres' : u_thres,                   # Threshold for spike generation [Volt]\n",
        "        'R'       : R,                         # Membrane resistance [Ohm]\n",
        "        'tau_m'   : tau_m,                     # Membrane time constant [second]\n",
        "        'I_syn'   : I_syn,                     # Postsynaptic current [Ampere]\n",
        "    }\n",
        "\n",
        "def lif_neuron(num_synapses,  u_rest=-65e-3, u_reset=-80e-3, u_thres=-50e-3, R=95e6, tau_m=30e-3, tau_syn=50e-3):\n",
        "    # LIF neuron with current-based synapses (see lecture)\n",
        "    return {\n",
        "        'type'    : 'lif',\n",
        "        'u'       : u_reset,                   # Membrane potential [Volt]\n",
        "        'u_rest'  : u_rest,                    # Leakage resting potential [Volt]\n",
        "        'u_reset' : u_reset,                   # Reset potential after spike [Volt]\n",
        "        'u_thres' : u_thres,                   # Threshold for spike generation [Volt]\n",
        "        'R'       : R,                         # Membrane resistance [Ohm]\n",
        "        'tau_m'   : tau_m,                     # Membrane time constant [second]\n",
        "        'tau_syn' : tau_syn,                   # Synapse time constant [second] (can also be an array)\n",
        "        'I_syn'   : np.zeros(num_synapses),    # Postsynaptic currents [Ampere]\n",
        "        'w_syn'   : np.zeros(num_synapses)     # Synaptic weights [Ampere]\n",
        "    }\n",
        "\n",
        "def integrate(dt, t, neurons):\n",
        "    # This function integrates the membrane potential, synaptic currents etc one timestep dt\n",
        "    for n in neurons:\n",
        "        if n['type'] == 'lif_cic':\n",
        "            dudt = (n['u_rest'] - n['u'] + n['R']*n['I_syn']) / n['tau_m']\n",
        "            n['u'] += dt*dudt\n",
        "        elif n['type'] == 'lif':\n",
        "            didt = np.divide(-n['I_syn'], n['tau_syn'])\n",
        "            n['I_syn'] += dt*didt\n",
        "            dudt = (n['u_rest'] - n['u'] + n['R']*sum(n['I_syn'])) / n['tau_m']\n",
        "            n['u'] += dt*dudt\n",
        "\n",
        "def snn_update(dt, t, neurons, connections):\n",
        "    # This function updates the state of a spiking neural network by calling the functions above\n",
        "    spikes = spikegen(dt, t, neurons)\n",
        "    for (post, syn, pre) in connections:\n",
        "        for spike in spikes:\n",
        "            if spike == pre:\n",
        "                if neurons[post]['type'] == 'lif':\n",
        "                    neurons[post]['I_syn'][syn] += neurons[post]['w_syn'][syn]\n",
        "                else:\n",
        "                    print('Error: Spike sent to neuron type without synapses')\n",
        "    integrate(dt, t, neurons)\n",
        "    return spikes"
      ]
    },
    {
      "cell_type": "code",
      "execution_count": 6,
      "metadata": {},
      "outputs": [],
      "source": [
        "spikeTiming = [1]\n",
        "\n",
        "# Right to left\n",
        "spike1 = spike_generator([0.30])\n",
        "spike2 = spike_generator([0.25])\n",
        "spike3 = spike_generator([0.20])\n",
        "spike4 = spike_generator([0.15])\n",
        "spike5 = spike_generator([0.1])\n",
        "# Left to right\n",
        "# spike1 = spike_generator([0.10])\n",
        "# spike2 = spike_generator([0.15])\n",
        "# spike3 = spike_generator([0.20])\n",
        "# spike4 = spike_generator([0.25])\n",
        "# spike5 = spike_generator([0.30])\n",
        "\n",
        "inp1 = lif_neuron(1)\n",
        "inp2 = lif_neuron(1)\n",
        "inp3 = lif_neuron(1)\n",
        "inp4 = lif_neuron(1)\n",
        "inp5 = lif_neuron(1)\n",
        "\n",
        "feed1 = lif_neuron(1)\n",
        "feed2 = lif_neuron(1)\n",
        "feed3 = lif_neuron(1)\n",
        "feed4 = lif_neuron(1)\n",
        "\n",
        "relay1 = lif_neuron(2)\n",
        "relay2 = lif_neuron(2)\n",
        "relay3 = lif_neuron(2)\n",
        "relay4 = lif_neuron(2) \n",
        "\n",
        "output = lif_neuron(4) \n",
        "#             0     1       2       3       4       5      6    7      8     9    10     11     12      13      14      15     16       17      18\n",
        "neurons = [spike1, spike2, spike3, spike4, spike5, inp1, inp2, inp3, inp4, inp5, feed1, feed2, feed3, feed4, relay1, relay2, relay3, relay4, output]               # A population of three neurons\n",
        "\n",
        "connections = [\n",
        "    #Input\n",
        "    [5,0,0],\n",
        "    [6,0,1],\n",
        "    [7,0,2],\n",
        "    [8,0,3],\n",
        "    [9,0,4],\n",
        "\n",
        "    #Feed forward inhib\n",
        "    [10,0,5],\n",
        "    [11,0,6],\n",
        "    [12,0,7],\n",
        "    [13,0,8],\n",
        "\n",
        "    #Relays\n",
        "    [14,1,10],\n",
        "    [14,0,6],\n",
        "    [15,1,11],\n",
        "    [15,0,7],\n",
        "    [16,1,12],\n",
        "    [16,0,8],\n",
        "    [17,1,13],\n",
        "    [17,0,9],\n",
        "\n",
        "    #Output\n",
        "    [18,0,14],\n",
        "    [18,1,15],\n",
        "    [18,2,16],\n",
        "    [18,3,17]\n",
        "]\n",
        "\n",
        "wsyn = 350e-12\n",
        "\n",
        "for i in range(len(neurons)): \n",
        "    if(neurons[i][\"type\"] == \"generator\"):\n",
        "        continue\n",
        "    try:\n",
        "        neurons[i]['w_syn'][0] = wsyn\n",
        "        neurons[i]['w_syn'][1] = wsyn\n",
        "        neurons[i]['w_syn'][2] = wsyn\n",
        "        neurons[i]['w_syn'][3] = wsyn\n",
        "    except:\n",
        "        pass\n",
        "    if(i >13 and i < 18):\n",
        "        neurons[i]['w_syn'][1] = -wsyn\n",
        "    if(i == 18):\n",
        "        neurons[i]['w_syn'][0] = wsyn/2\n",
        "        neurons[i]['w_syn'][1] = wsyn/2\n",
        "        neurons[i]['w_syn'][2] = wsyn/2\n",
        "        neurons[i]['w_syn'][3] = wsyn/2\n",
        "    \n",
        "\n",
        "t = 0                                # Reset the simulation time"
      ]
    },
    {
      "cell_type": "code",
      "execution_count": 7,
      "metadata": {},
      "outputs": [
        {
          "ename": "KeyboardInterrupt",
          "evalue": "",
          "output_type": "error",
          "traceback": [
            "\u001b[1;31m---------------------------------------------------------------------------\u001b[0m",
            "\u001b[1;31mKeyboardInterrupt\u001b[0m                         Traceback (most recent call last)",
            "Cell \u001b[1;32mIn[7], line 15\u001b[0m\n\u001b[0;32m     10\u001b[0m n_spike \u001b[39m=\u001b[39m []\n\u001b[0;32m     12\u001b[0m \u001b[39mwhile\u001b[39;00m t \u001b[39m<\u001b[39m t0\u001b[39m+\u001b[39m\u001b[39m1\u001b[39m:\n\u001b[0;32m     13\u001b[0m \n\u001b[0;32m     14\u001b[0m     \u001b[39m# Update the network\u001b[39;00m\n\u001b[1;32m---> 15\u001b[0m     spikes \u001b[39m=\u001b[39m snn_update(dt, t, neurons, connections)\n\u001b[0;32m     17\u001b[0m     \u001b[39m# Store membrane potentials of n1 and n2 for plotting/analysis\u001b[39;00m\n\u001b[0;32m     18\u001b[0m     tv\u001b[39m.\u001b[39mappend(t)\n",
            "Cell \u001b[1;32mIn[5], line 43\u001b[0m, in \u001b[0;36msnn_update\u001b[1;34m(dt, t, neurons, connections)\u001b[0m\n\u001b[0;32m     41\u001b[0m \u001b[39mdef\u001b[39;00m \u001b[39msnn_update\u001b[39m(dt, t, neurons, connections):\n\u001b[0;32m     42\u001b[0m     \u001b[39m# This function updates the state of a spiking neural network by calling the functions above\u001b[39;00m\n\u001b[1;32m---> 43\u001b[0m     spikes \u001b[39m=\u001b[39m spikegen(dt, t, neurons)\n\u001b[0;32m     44\u001b[0m     \u001b[39mfor\u001b[39;00m (post, syn, pre) \u001b[39min\u001b[39;00m connections:\n\u001b[0;32m     45\u001b[0m         \u001b[39mfor\u001b[39;00m spike \u001b[39min\u001b[39;00m spikes:\n",
            "Cell \u001b[1;32mIn[4], line 21\u001b[0m, in \u001b[0;36mspikegen\u001b[1;34m(dt, t, neurons)\u001b[0m\n\u001b[0;32m     19\u001b[0m         spikes\u001b[39m.\u001b[39mappend(i)\n\u001b[0;32m     20\u001b[0m \u001b[39melif\u001b[39;00m n[\u001b[39m'\u001b[39m\u001b[39mtype\u001b[39m\u001b[39m'\u001b[39m] \u001b[39m==\u001b[39m \u001b[39m'\u001b[39m\u001b[39mgenerator\u001b[39m\u001b[39m'\u001b[39m:\n\u001b[1;32m---> 21\u001b[0m     j \u001b[39m=\u001b[39m np\u001b[39m.\u001b[39;49msearchsorted(n[\u001b[39m'\u001b[39;49m\u001b[39mspike_t\u001b[39;49m\u001b[39m'\u001b[39;49m], t, side\u001b[39m=\u001b[39;49m\u001b[39m'\u001b[39;49m\u001b[39mright\u001b[39;49m\u001b[39m'\u001b[39;49m)\n\u001b[0;32m     22\u001b[0m     \u001b[39mif\u001b[39;00m j\u001b[39m>\u001b[39m\u001b[39m0\u001b[39m \u001b[39mand\u001b[39;00m t\u001b[39m-\u001b[39mn[\u001b[39m'\u001b[39m\u001b[39mspike_t\u001b[39m\u001b[39m'\u001b[39m][j\u001b[39m-\u001b[39m\u001b[39m1\u001b[39m]\u001b[39m<\u001b[39mdt:\n\u001b[0;32m     23\u001b[0m         spikes\u001b[39m.\u001b[39mappend(i)\n",
            "File \u001b[1;32m<__array_function__ internals>:200\u001b[0m, in \u001b[0;36msearchsorted\u001b[1;34m(*args, **kwargs)\u001b[0m\n",
            "File \u001b[1;32mc:\\Users\\lundm\\OneDrive - ltu.se\\Documents\\AAAskola\\D7046E - Neurala\\.env\\lib\\site-packages\\numpy\\core\\fromnumeric.py:1413\u001b[0m, in \u001b[0;36msearchsorted\u001b[1;34m(a, v, side, sorter)\u001b[0m\n\u001b[0;32m   1345\u001b[0m \u001b[39m@array_function_dispatch\u001b[39m(_searchsorted_dispatcher)\n\u001b[0;32m   1346\u001b[0m \u001b[39mdef\u001b[39;00m \u001b[39msearchsorted\u001b[39m(a, v, side\u001b[39m=\u001b[39m\u001b[39m'\u001b[39m\u001b[39mleft\u001b[39m\u001b[39m'\u001b[39m, sorter\u001b[39m=\u001b[39m\u001b[39mNone\u001b[39;00m):\n\u001b[0;32m   1347\u001b[0m \u001b[39m    \u001b[39m\u001b[39m\"\"\"\u001b[39;00m\n\u001b[0;32m   1348\u001b[0m \u001b[39m    Find indices where elements should be inserted to maintain order.\u001b[39;00m\n\u001b[0;32m   1349\u001b[0m \n\u001b[1;32m   (...)\u001b[0m\n\u001b[0;32m   1411\u001b[0m \n\u001b[0;32m   1412\u001b[0m \u001b[39m    \"\"\"\u001b[39;00m\n\u001b[1;32m-> 1413\u001b[0m     \u001b[39mreturn\u001b[39;00m _wrapfunc(a, \u001b[39m'\u001b[39;49m\u001b[39msearchsorted\u001b[39;49m\u001b[39m'\u001b[39;49m, v, side\u001b[39m=\u001b[39;49mside, sorter\u001b[39m=\u001b[39;49msorter)\n",
            "File \u001b[1;32mc:\\Users\\lundm\\OneDrive - ltu.se\\Documents\\AAAskola\\D7046E - Neurala\\.env\\lib\\site-packages\\numpy\\core\\fromnumeric.py:54\u001b[0m, in \u001b[0;36m_wrapfunc\u001b[1;34m(obj, method, *args, **kwds)\u001b[0m\n\u001b[0;32m     52\u001b[0m bound \u001b[39m=\u001b[39m \u001b[39mgetattr\u001b[39m(obj, method, \u001b[39mNone\u001b[39;00m)\n\u001b[0;32m     53\u001b[0m \u001b[39mif\u001b[39;00m bound \u001b[39mis\u001b[39;00m \u001b[39mNone\u001b[39;00m:\n\u001b[1;32m---> 54\u001b[0m     \u001b[39mreturn\u001b[39;00m _wrapit(obj, method, \u001b[39m*\u001b[39margs, \u001b[39m*\u001b[39m\u001b[39m*\u001b[39mkwds)\n\u001b[0;32m     56\u001b[0m \u001b[39mtry\u001b[39;00m:\n\u001b[0;32m     57\u001b[0m     \u001b[39mreturn\u001b[39;00m bound(\u001b[39m*\u001b[39margs, \u001b[39m*\u001b[39m\u001b[39m*\u001b[39mkwds)\n",
            "File \u001b[1;32mc:\\Users\\lundm\\OneDrive - ltu.se\\Documents\\AAAskola\\D7046E - Neurala\\.env\\lib\\site-packages\\numpy\\core\\fromnumeric.py:43\u001b[0m, in \u001b[0;36m_wrapit\u001b[1;34m(obj, method, *args, **kwds)\u001b[0m\n\u001b[0;32m     41\u001b[0m \u001b[39mexcept\u001b[39;00m \u001b[39mAttributeError\u001b[39;00m:\n\u001b[0;32m     42\u001b[0m     wrap \u001b[39m=\u001b[39m \u001b[39mNone\u001b[39;00m\n\u001b[1;32m---> 43\u001b[0m result \u001b[39m=\u001b[39m \u001b[39mgetattr\u001b[39m(asarray(obj), method)(\u001b[39m*\u001b[39margs, \u001b[39m*\u001b[39m\u001b[39m*\u001b[39mkwds)\n\u001b[0;32m     44\u001b[0m \u001b[39mif\u001b[39;00m wrap:\n\u001b[0;32m     45\u001b[0m     \u001b[39mif\u001b[39;00m \u001b[39mnot\u001b[39;00m \u001b[39misinstance\u001b[39m(result, mu\u001b[39m.\u001b[39mndarray):\n",
            "\u001b[1;31mKeyboardInterrupt\u001b[0m: "
          ]
        }
      ],
      "source": [
        "dt = 1e-5\n",
        "\n",
        "t0 = t\n",
        "tv = []\n",
        "u1 = []\n",
        "u2 = []\n",
        "u3 = []\n",
        "u_out = []\n",
        "t_spike = []\n",
        "n_spike = []\n",
        "\n",
        "while t < t0+1:\n",
        "\n",
        "    # Update the network\n",
        "    spikes = snn_update(dt, t, neurons, connections)\n",
        "    \n",
        "    # Store membrane potentials of n1 and n2 for plotting/analysis\n",
        "    tv.append(t)\n",
        "    u1.append(inp5['u'])\n",
        "    u2.append(feed4['u'])\n",
        "    u3.append(relay4['u'])\n",
        "    u_out.append(output['u'])\n",
        "    \n",
        "    # Store spikes needed for plotting/analysis\n",
        "    if len(spikes)>0:\n",
        "        for s in spikes:\n",
        "            t_spike.append(t)\n",
        "            n_spike.append(s)\n",
        "\n",
        "    # Timestep completed\n",
        "    t += dt\n",
        "    \n",
        "plt.rcParams['figure.figsize'] = [10, 10]\n",
        "fig,(ax1,ax2,ax3,ax4, ax5) = plt.subplots(5,1, sharex=True)\n",
        "ax1.plot(tv,u1); ax1.set_ylabel('Membrane potential inp1(t)')\n",
        "ax2.plot(tv,u2); ax2.set_ylabel('Membrane potential relay1(t)')\n",
        "ax3.plot(tv,u3); ax3.set_ylabel('Membrane potential output(t)')\n",
        "ax4.plot(tv,u_out); ax4.set_ylabel('Membrane potential output(t)')\n",
        "rasterplot(ax5, t_spike, n_spike,'Time [s]','Neuron index')"
      ]
    },
    {
      "cell_type": "markdown",
      "metadata": {
        "id": "TLIxcQpGyvnN"
      },
      "source": [
        "# Further project work \n",
        "\n",
        "The challenge for the **1D Retina project** is to develop a more advanced vision system for (1D) motion classification, which is not limited to one specific pattern like the bright spot in the basic data generator above.\n",
        "\n",
        "For example, you could consider using an open image dataset for training, validation and testing. For testing, the output of a webcam could optionally be considered. The delta modulator concept introduced in SNN Exercise 1 could potentially be used to convert pixel intensities to spikes. Optionally, you can use a [DAVIS346 neuromorphic vision sensor](https://inivation.github.io/inivation-docs/Hardware%20user%20guides/User_guide_-_DAVIS346.html) to record your own dataset.\n",
        "\n",
        "Some inspiration for the SNN network architecture and training protocol can be obtained also from SNN Exercise 2. The [Reichardt Detector](https://en.wikipedia.org/wiki/Motion_perception#The_Reichardt-Hassenstein_model) is one starting point. For further inspiration, consider for example [motion detection in insects](https://link.springer.com/content/pdf/10.1007/s00359-019-01375-9.pdf).\n",
        "\n",
        "In addition to considering differnt types of receptor models and SNN architectures for efficient and reliable motion classification, you can consider using other SNN simulators like [Brian2](https://brian2.readthedocs.io). Optionally you can consider using accelerators like [Brian2GeNN](https://brian2genn.readthedocs.io/en/stable/introduction/).\n",
        "\n",
        "The possibilities for exploration are endless! How does the human retina work?"
      ]
    },
    {
      "cell_type": "code",
      "execution_count": null,
      "metadata": {
        "id": "fDje6uuMz7uA"
      },
      "outputs": [],
      "source": []
    }
  ],
  "metadata": {
    "colab": {
      "name": "1D-retina-sandbox.ipynb",
      "provenance": []
    },
    "kernelspec": {
      "display_name": ".env",
      "language": "python",
      "name": "python3"
    },
    "language_info": {
      "codemirror_mode": {
        "name": "ipython",
        "version": 3
      },
      "file_extension": ".py",
      "mimetype": "text/x-python",
      "name": "python",
      "nbconvert_exporter": "python",
      "pygments_lexer": "ipython3",
      "version": "3.10.8"
    },
    "vscode": {
      "interpreter": {
        "hash": "7b2936d290d6375a3d48977cfe4e9b23a108d5482e31d95eff0e4fa5813d17d3"
      }
    }
  },
  "nbformat": 4,
  "nbformat_minor": 0
}
